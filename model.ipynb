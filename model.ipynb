{
  "nbformat": 4,
  "nbformat_minor": 0,
  "metadata": {
    "colab": {
      "name": "model.ipynb",
      "provenance": [],
      "collapsed_sections": [],
      "include_colab_link": true
    },
    "kernelspec": {
      "name": "python3",
      "display_name": "Python 3"
    }
  },
  "cells": [
    {
      "cell_type": "markdown",
      "metadata": {
        "id": "view-in-github",
        "colab_type": "text"
      },
      "source": [
        "<a href=\"https://colab.research.google.com/github/jeffreyfeng99/BME252/blob/master/model.ipynb\" target=\"_parent\"><img src=\"https://colab.research.google.com/assets/colab-badge.svg\" alt=\"Open In Colab\"/></a>"
      ]
    },
    {
      "cell_type": "markdown",
      "metadata": {
        "id": "C7CpBgAY5vzG",
        "colab_type": "text"
      },
      "source": [
        "### Import Libaries"
      ]
    },
    {
      "cell_type": "code",
      "metadata": {
        "id": "S8yp-EaD5zm5",
        "colab_type": "code",
        "colab": {}
      },
      "source": [
        "import numpy as np\n",
        "import matplotlib.pyplot as plt\n",
        "from math import e"
      ],
      "execution_count": 0,
      "outputs": []
    },
    {
      "cell_type": "markdown",
      "metadata": {
        "id": "Zg2l0ut3HKp8",
        "colab_type": "text"
      },
      "source": [
        "### Hill Type Model"
      ]
    },
    {
      "cell_type": "code",
      "metadata": {
        "id": "TV_bqbDu5zsv",
        "colab_type": "code",
        "colab": {}
      },
      "source": [
        "class HillTypeModel:\n",
        "    \"\"\"\n",
        "    Hill-type model based on Millard et al. (2013) undamped model, with simplified force-length\n",
        "    and force-velocity curves.\n",
        "    \"\"\"\n",
        "\n",
        "    def __init__(self, max_isometric_force, resting_muscle_length, resting_tendon_length):\n",
        "        self.f0 = max_isometric_force\n",
        "        self.resting_muscle_length = resting_muscle_length\n",
        "        self.resting_tendon_length = resting_tendon_length\n",
        "        self.positive_velocity_slope = 0.1 # slope of lengthening part of force-velocity curve\n",
        "\n",
        "    def get_muscle_velocity(self, muscle_length, total_length, activation):\n",
        "        \"\"\"\n",
        "        :param muscle_length: length of \"muscle\", i.e. contractile element (m)\n",
        "        :param total_length: total length of muscle-tendon (m)\n",
        "        :param activation: fraction max activation (between 0 and 1)\n",
        "        :return: lengthening velocity of muscle (m/s)\n",
        "        \"\"\"\n",
        "\n",
        "        norm_muscle_length = muscle_length / self.resting_muscle_length\n",
        "        norm_tendon_length = (total_length - muscle_length) / self.resting_tendon_length\n",
        "\n",
        "        force_tendon = self.force_length_series(norm_tendon_length)\n",
        "        force_parallel_elastic = self.force_length_parallel(norm_muscle_length)\n",
        "        force_length_gain = self.force_length_contractile(norm_muscle_length)\n",
        "        force_velocity_gain = (force_tendon - force_parallel_elastic) / max(.01, activation * force_length_gain)\n",
        "        norm_muscle_velocity = self.force_velocity_inverse(force_velocity_gain)\n",
        "\n",
        "        return norm_muscle_velocity * self.resting_muscle_length\n",
        "\n",
        "    def force_length_series(self, length):\n",
        "        return np.maximum(0, (length-1)*20)\n",
        "\n",
        "    def force_length_parallel(self, length):\n",
        "        return (length > 1) * (1.5*length-1.5)**2\n",
        "\n",
        "    def force_length_contractile(self, length):\n",
        "        return np.exp(-(length-1)**2 / .4)\n",
        "\n",
        "    def force_velocity(self, velocity):\n",
        "        return 1 + velocity - (1-self.positive_velocity_slope)*velocity*(velocity > 0)\n",
        "\n",
        "    def force_velocity_inverse(self, gain):\n",
        "        if gain < 1:\n",
        "            return (gain-1)\n",
        "        else:\n",
        "            return (gain-1) * (1/self.positive_velocity_slope)\n",
        "\n",
        "    def plot_curves(self):\n",
        "        plt.figure()\n",
        "        length = np.linspace(0, 2, 100)\n",
        "        plt.subplot(2,2,1)\n",
        "        plt.plot(length, self.force_length_series(length))\n",
        "        plt.title('SE')\n",
        "        plt.xlabel('Normalized length')\n",
        "        plt.ylabel('Normalized force')\n",
        "        plt.subplot(2,2,2)\n",
        "        plt.plot(length, self.force_length_parallel(length))\n",
        "        plt.title('PE')\n",
        "        plt.xlabel('Normalized length')\n",
        "        plt.ylabel('Normalized force')\n",
        "        plt.subplot(2,2,3)\n",
        "        plt.plot(length, self.force_length_contractile(length))\n",
        "        plt.title('CE')\n",
        "        plt.xlabel('Normalized length')\n",
        "        plt.ylabel('Normalized force')\n",
        "        plt.subplot(2,2,4)\n",
        "        velocity = np.linspace(-1, 1, 100)\n",
        "        plt.plot(velocity, self.force_velocity(velocity))\n",
        "        plt.title('CE')\n",
        "        plt.xlabel('Normalized velocity')\n",
        "        plt.ylabel('Normalized force')\n",
        "        plt.tight_layout()\n",
        "        plt.show()\n",
        "\n",
        "\n"
      ],
      "execution_count": 0,
      "outputs": []
    },
    {
      "cell_type": "markdown",
      "metadata": {
        "id": "NHAhye6aJQtr",
        "colab_type": "text"
      },
      "source": [
        "### Activation for Hill Type"
      ]
    },
    {
      "cell_type": "markdown",
      "metadata": {
        "id": "UxQSHdgOMSVc",
        "colab_type": "text"
      },
      "source": [
        "- Frequency\n",
        "- Positive Pulse Width and Amplitude\n",
        "- Negative Pulse Width and Amplitude\n",
        "- Non-linearility coefficient\n",
        "- Pulse Amplitude\n",
        "- Fatigue"
      ]
    },
    {
      "cell_type": "code",
      "metadata": {
        "id": "SbYevqMPMWoR",
        "colab_type": "code",
        "colab": {}
      },
      "source": [
        "class Activation:\n",
        "  '''\n",
        "  Activation function that will be used on Hill-Type Muscle Model\n",
        "\n",
        "  Impulse Interval should be a field no?\n",
        "  '''\n",
        "  def __init__(self, frequency, pos_width, neg_width, p_amp, n_amp, non_linearity, fatigue = None):\n",
        "    '''\n",
        "    frequency: Hz\n",
        "    pos_width: (ms)\n",
        "    neg_width: (ms)\n",
        "    '''\n",
        "    self.frequency = frequency\n",
        "    self.pos_width = pos_width\n",
        "    self.neg_width = neg_width\n",
        "    self.non_linearity = non_linearity\n",
        "    self.fatigue = fatigue\n",
        "\n",
        "  def get_activation_signal(self, frequency, pos_width, neg_width, p_amp, n_amp, non_linearity):\n",
        "    period = (1 * 1000)//frequency # ms\n",
        "\n",
        "    # the activation signal can't be on or off longer than the frequency\n",
        "    assert pos_width + neg_width < period\n",
        "\n",
        "    on = p_amp * np.ones(self.pos_width)\n",
        "    neg = n_amp * np.ones(self.neg_width)\n",
        "    result = np.concatenate((on, neg))\n",
        "\n",
        "    off = np.zeros(period - (pos_width + neg_width))   \n",
        "    \n",
        "    result = np.concatenate((result, off))\n",
        "    plt.plot(result)\n",
        "\n",
        "    activation_signal = e**(non_linearity*result)-1/(e**non_linearity-1)\n",
        "    plt.plot(activation_signal)\n",
        "    return activation_signal\n",
        "  \n",
        "  # def get_amp(self, t):\n",
        "\n",
        "  \n",
        "  # def get_fatigue(self, signal, width):\n",
        "\n"
      ],
      "execution_count": 0,
      "outputs": []
    },
    {
      "cell_type": "code",
      "metadata": {
        "id": "n0mwTphWOsX1",
        "colab_type": "code",
        "outputId": "49d5bb41-f3b5-482a-cde0-c01c387ea21e",
        "colab": {
          "base_uri": "https://localhost:8080/",
          "height": 1000
        }
      },
      "source": [
        "frequency, pos_width, neg_width, p_amp, n_amp, non_linearity = 2, 50, 50, 1, -5, 2\n",
        "a = Activation(frequency, pos_width, neg_width, p_amp, n_amp, non_linearity)\n",
        "a.get_activation_signal(frequency, pos_width, neg_width, p_amp, n_amp, non_linearity)"
      ],
      "execution_count": 0,
      "outputs": [
        {
          "output_type": "execute_result",
          "data": {
            "text/plain": [
              "array([ 7.23253846,  7.23253846,  7.23253846,  7.23253846,  7.23253846,\n",
              "        7.23253846,  7.23253846,  7.23253846,  7.23253846,  7.23253846,\n",
              "        7.23253846,  7.23253846,  7.23253846,  7.23253846,  7.23253846,\n",
              "        7.23253846,  7.23253846,  7.23253846,  7.23253846,  7.23253846,\n",
              "        7.23253846,  7.23253846,  7.23253846,  7.23253846,  7.23253846,\n",
              "        7.23253846,  7.23253846,  7.23253846,  7.23253846,  7.23253846,\n",
              "        7.23253846,  7.23253846,  7.23253846,  7.23253846,  7.23253846,\n",
              "        7.23253846,  7.23253846,  7.23253846,  7.23253846,  7.23253846,\n",
              "        7.23253846,  7.23253846,  7.23253846,  7.23253846,  7.23253846,\n",
              "        7.23253846,  7.23253846,  7.23253846,  7.23253846,  7.23253846,\n",
              "       -0.15647224, -0.15647224, -0.15647224, -0.15647224, -0.15647224,\n",
              "       -0.15647224, -0.15647224, -0.15647224, -0.15647224, -0.15647224,\n",
              "       -0.15647224, -0.15647224, -0.15647224, -0.15647224, -0.15647224,\n",
              "       -0.15647224, -0.15647224, -0.15647224, -0.15647224, -0.15647224,\n",
              "       -0.15647224, -0.15647224, -0.15647224, -0.15647224, -0.15647224,\n",
              "       -0.15647224, -0.15647224, -0.15647224, -0.15647224, -0.15647224,\n",
              "       -0.15647224, -0.15647224, -0.15647224, -0.15647224, -0.15647224,\n",
              "       -0.15647224, -0.15647224, -0.15647224, -0.15647224, -0.15647224,\n",
              "       -0.15647224, -0.15647224, -0.15647224, -0.15647224, -0.15647224,\n",
              "       -0.15647224, -0.15647224, -0.15647224, -0.15647224, -0.15647224,\n",
              "        0.84348236,  0.84348236,  0.84348236,  0.84348236,  0.84348236,\n",
              "        0.84348236,  0.84348236,  0.84348236,  0.84348236,  0.84348236,\n",
              "        0.84348236,  0.84348236,  0.84348236,  0.84348236,  0.84348236,\n",
              "        0.84348236,  0.84348236,  0.84348236,  0.84348236,  0.84348236,\n",
              "        0.84348236,  0.84348236,  0.84348236,  0.84348236,  0.84348236,\n",
              "        0.84348236,  0.84348236,  0.84348236,  0.84348236,  0.84348236,\n",
              "        0.84348236,  0.84348236,  0.84348236,  0.84348236,  0.84348236,\n",
              "        0.84348236,  0.84348236,  0.84348236,  0.84348236,  0.84348236,\n",
              "        0.84348236,  0.84348236,  0.84348236,  0.84348236,  0.84348236,\n",
              "        0.84348236,  0.84348236,  0.84348236,  0.84348236,  0.84348236,\n",
              "        0.84348236,  0.84348236,  0.84348236,  0.84348236,  0.84348236,\n",
              "        0.84348236,  0.84348236,  0.84348236,  0.84348236,  0.84348236,\n",
              "        0.84348236,  0.84348236,  0.84348236,  0.84348236,  0.84348236,\n",
              "        0.84348236,  0.84348236,  0.84348236,  0.84348236,  0.84348236,\n",
              "        0.84348236,  0.84348236,  0.84348236,  0.84348236,  0.84348236,\n",
              "        0.84348236,  0.84348236,  0.84348236,  0.84348236,  0.84348236,\n",
              "        0.84348236,  0.84348236,  0.84348236,  0.84348236,  0.84348236,\n",
              "        0.84348236,  0.84348236,  0.84348236,  0.84348236,  0.84348236,\n",
              "        0.84348236,  0.84348236,  0.84348236,  0.84348236,  0.84348236,\n",
              "        0.84348236,  0.84348236,  0.84348236,  0.84348236,  0.84348236,\n",
              "        0.84348236,  0.84348236,  0.84348236,  0.84348236,  0.84348236,\n",
              "        0.84348236,  0.84348236,  0.84348236,  0.84348236,  0.84348236,\n",
              "        0.84348236,  0.84348236,  0.84348236,  0.84348236,  0.84348236,\n",
              "        0.84348236,  0.84348236,  0.84348236,  0.84348236,  0.84348236,\n",
              "        0.84348236,  0.84348236,  0.84348236,  0.84348236,  0.84348236,\n",
              "        0.84348236,  0.84348236,  0.84348236,  0.84348236,  0.84348236,\n",
              "        0.84348236,  0.84348236,  0.84348236,  0.84348236,  0.84348236,\n",
              "        0.84348236,  0.84348236,  0.84348236,  0.84348236,  0.84348236,\n",
              "        0.84348236,  0.84348236,  0.84348236,  0.84348236,  0.84348236,\n",
              "        0.84348236,  0.84348236,  0.84348236,  0.84348236,  0.84348236,\n",
              "        0.84348236,  0.84348236,  0.84348236,  0.84348236,  0.84348236,\n",
              "        0.84348236,  0.84348236,  0.84348236,  0.84348236,  0.84348236,\n",
              "        0.84348236,  0.84348236,  0.84348236,  0.84348236,  0.84348236,\n",
              "        0.84348236,  0.84348236,  0.84348236,  0.84348236,  0.84348236,\n",
              "        0.84348236,  0.84348236,  0.84348236,  0.84348236,  0.84348236,\n",
              "        0.84348236,  0.84348236,  0.84348236,  0.84348236,  0.84348236,\n",
              "        0.84348236,  0.84348236,  0.84348236,  0.84348236,  0.84348236,\n",
              "        0.84348236,  0.84348236,  0.84348236,  0.84348236,  0.84348236,\n",
              "        0.84348236,  0.84348236,  0.84348236,  0.84348236,  0.84348236,\n",
              "        0.84348236,  0.84348236,  0.84348236,  0.84348236,  0.84348236,\n",
              "        0.84348236,  0.84348236,  0.84348236,  0.84348236,  0.84348236,\n",
              "        0.84348236,  0.84348236,  0.84348236,  0.84348236,  0.84348236,\n",
              "        0.84348236,  0.84348236,  0.84348236,  0.84348236,  0.84348236,\n",
              "        0.84348236,  0.84348236,  0.84348236,  0.84348236,  0.84348236,\n",
              "        0.84348236,  0.84348236,  0.84348236,  0.84348236,  0.84348236,\n",
              "        0.84348236,  0.84348236,  0.84348236,  0.84348236,  0.84348236,\n",
              "        0.84348236,  0.84348236,  0.84348236,  0.84348236,  0.84348236,\n",
              "        0.84348236,  0.84348236,  0.84348236,  0.84348236,  0.84348236,\n",
              "        0.84348236,  0.84348236,  0.84348236,  0.84348236,  0.84348236,\n",
              "        0.84348236,  0.84348236,  0.84348236,  0.84348236,  0.84348236,\n",
              "        0.84348236,  0.84348236,  0.84348236,  0.84348236,  0.84348236,\n",
              "        0.84348236,  0.84348236,  0.84348236,  0.84348236,  0.84348236,\n",
              "        0.84348236,  0.84348236,  0.84348236,  0.84348236,  0.84348236,\n",
              "        0.84348236,  0.84348236,  0.84348236,  0.84348236,  0.84348236,\n",
              "        0.84348236,  0.84348236,  0.84348236,  0.84348236,  0.84348236,\n",
              "        0.84348236,  0.84348236,  0.84348236,  0.84348236,  0.84348236,\n",
              "        0.84348236,  0.84348236,  0.84348236,  0.84348236,  0.84348236,\n",
              "        0.84348236,  0.84348236,  0.84348236,  0.84348236,  0.84348236,\n",
              "        0.84348236,  0.84348236,  0.84348236,  0.84348236,  0.84348236,\n",
              "        0.84348236,  0.84348236,  0.84348236,  0.84348236,  0.84348236,\n",
              "        0.84348236,  0.84348236,  0.84348236,  0.84348236,  0.84348236,\n",
              "        0.84348236,  0.84348236,  0.84348236,  0.84348236,  0.84348236,\n",
              "        0.84348236,  0.84348236,  0.84348236,  0.84348236,  0.84348236,\n",
              "        0.84348236,  0.84348236,  0.84348236,  0.84348236,  0.84348236,\n",
              "        0.84348236,  0.84348236,  0.84348236,  0.84348236,  0.84348236,\n",
              "        0.84348236,  0.84348236,  0.84348236,  0.84348236,  0.84348236,\n",
              "        0.84348236,  0.84348236,  0.84348236,  0.84348236,  0.84348236,\n",
              "        0.84348236,  0.84348236,  0.84348236,  0.84348236,  0.84348236,\n",
              "        0.84348236,  0.84348236,  0.84348236,  0.84348236,  0.84348236,\n",
              "        0.84348236,  0.84348236,  0.84348236,  0.84348236,  0.84348236,\n",
              "        0.84348236,  0.84348236,  0.84348236,  0.84348236,  0.84348236,\n",
              "        0.84348236,  0.84348236,  0.84348236,  0.84348236,  0.84348236,\n",
              "        0.84348236,  0.84348236,  0.84348236,  0.84348236,  0.84348236,\n",
              "        0.84348236,  0.84348236,  0.84348236,  0.84348236,  0.84348236,\n",
              "        0.84348236,  0.84348236,  0.84348236,  0.84348236,  0.84348236,\n",
              "        0.84348236,  0.84348236,  0.84348236,  0.84348236,  0.84348236,\n",
              "        0.84348236,  0.84348236,  0.84348236,  0.84348236,  0.84348236,\n",
              "        0.84348236,  0.84348236,  0.84348236,  0.84348236,  0.84348236,\n",
              "        0.84348236,  0.84348236,  0.84348236,  0.84348236,  0.84348236,\n",
              "        0.84348236,  0.84348236,  0.84348236,  0.84348236,  0.84348236])"
            ]
          },
          "metadata": {
            "tags": []
          },
          "execution_count": 56
        },
        {
          "output_type": "display_data",
          "data": {
            "image/png": "[encoded data removed]",
            "text/plain": [
              "<Figure size 432x288 with 1 Axes>"
            ]
          },
          "metadata": {
            "tags": []
          }
        }
      ]
    },
    {
      "cell_type": "code",
      "metadata": {
        "id": "4SDglxR85zvp",
        "colab_type": "code",
        "colab": {}
      },
      "source": [
        "resting_muscle_length = .3\n",
        "resting_tendon_length = .1\n",
        "max_isometric_force = 1000\n",
        "muscle = HillTypeModel(max_isometric_force, resting_muscle_length, resting_tendon_length)\n",
        "muscle.plot_curves()\n",
        "\n",
        "total_length = resting_muscle_length + resting_tendon_length\n",
        "\n",
        "\n",
        "def f(t, x):\n",
        "    activation = 1\n",
        "    return muscle.get_muscle_velocity(x, total_length, activation)\n",
        "\n",
        "\n",
        "sol = solve_ivp(f, [0, 1], [resting_muscle_length], max_step=.01, rtol=1e-5, atol=1e-8)\n",
        "\n",
        "plt.figure()\n",
        "plt.subplot(1,2,1)\n",
        "plt.plot(sol.t, sol.y.T)\n",
        "plt.xlabel('Time (s)')\n",
        "plt.ylabel('Normalized CE length')\n",
        "plt.subplot(1,2,2)\n",
        "plt.plot(sol.t, muscle.force_length_series((total_length - sol.y.T)/resting_tendon_length))\n",
        "plt.xlabel('Time (s)')\n",
        "plt.ylabel('Normalized Tension')\n",
        "plt.tight_layout()\n",
        "plt.show()"
      ],
      "execution_count": 0,
      "outputs": []
    },
    {
      "cell_type": "markdown",
      "metadata": {
        "id": "xxpRT2AiHOw7",
        "colab_type": "text"
      },
      "source": [
        "### Musculoskeletal Model"
      ]
    },
    {
      "cell_type": "markdown",
      "metadata": {
        "id": "bbq_EhXhKbLr",
        "colab_type": "text"
      },
      "source": [
        "![alt text](https://www.overleaf.com/project/5e363d20b88ae3000145ffb8/file/5e569722d7c16900017aeac0)"
      ]
    },
    {
      "cell_type": "markdown",
      "metadata": {
        "id": "jErWe78tLDv6",
        "colab_type": "text"
      },
      "source": [
        "**State Equations**"
      ]
    },
    {
      "cell_type": "markdown",
      "metadata": {
        "id": "RJDBQT3vLLc-",
        "colab_type": "text"
      },
      "source": [
        "\\begin{equation}\n",
        "     \\vec{x} =\n",
        "     \\begin{bmatrix}\n",
        "     \\theta \\\\\n",
        "     \\dot{\\theta} \\\\\n",
        "     L_{TA} \\\\\n",
        "     L_{Sol}\n",
        "     \\end{bmatrix}\n",
        " \\end{equation}"
      ]
    },
    {
      "cell_type": "code",
      "metadata": {
        "id": "X5jNLtUjJlq7",
        "colab_type": "code",
        "colab": {}
      },
      "source": [
        "def soleus_length(theta):\n",
        "    \"\"\"\n",
        "    :param theta: body angle (up from prone horizontal)\n",
        "    :return: soleus length\n",
        "    \"\"\"\n",
        "    rotation = [[np.cos(theta), -np.sin(theta)], [np.sin(theta), np.cos(theta)]]\n",
        "    origin = np.dot(rotation, [.3, .03])\n",
        "    insertion = [-.05, -.02]\n",
        "    difference = origin - insertion\n",
        "    return np.sqrt(difference[0]**2 + difference[1]**2)"
      ],
      "execution_count": 0,
      "outputs": []
    },
    {
      "cell_type": "code",
      "metadata": {
        "id": "ubERZ5moJoPR",
        "colab_type": "code",
        "colab": {}
      },
      "source": [
        "def tibialis_length(theta):\n",
        "    \"\"\"\n",
        "    :param theta: body angle (up from prone horizontal)\n",
        "    :return: tibialis anterior length\n",
        "    \"\"\"\n",
        "    rotation = [[np.cos(theta), -np.sin(theta)], [np.sin(theta), np.cos(theta)]]\n",
        "    origin = np.dot(rotation, [.3, -.03])\n",
        "    insertion = [.06, -.03]\n",
        "    difference = origin - insertion\n",
        "    return np.sqrt(difference[0]**2 + difference[1]**2)"
      ],
      "execution_count": 0,
      "outputs": []
    },
    {
      "cell_type": "code",
      "metadata": {
        "id": "WKpPVoAmJqSc",
        "colab_type": "code",
        "colab": {}
      },
      "source": [
        "def gravity_moment(theta):\n",
        "    \"\"\"\n",
        "    :param theta: angle of body segment (up from prone)\n",
        "    :return: moment about ankle due to force of gravity on body\n",
        "    \"\"\"\n",
        "    mass = 75 # body mass (kg; excluding feet)\n",
        "    centre_of_mass_distance = 1 # distance from ankle to body segment centre of mass (m)\n",
        "    g = 9.81 # acceleration of gravity\n",
        "    return mass * g * centre_of_mass_distance * np.sin(theta - np.pi / 2)"
      ],
      "execution_count": 0,
      "outputs": []
    },
    {
      "cell_type": "code",
      "metadata": {
        "id": "DQ73S7zLIvIT",
        "colab_type": "code",
        "colab": {}
      },
      "source": [
        "def dynamics(x, soleus, tibialis, control):\n",
        "    \"\"\"\n",
        "    :param x: state vector (ankle angle, angular velocity, soleus normalized CE length, TA normalized CE length)\n",
        "    :param soleus: soleus muscle (HillTypeModel)\n",
        "    :param tibialis: tibialis anterior muscle (HillTypeModel)\n",
        "    :param control: True if balance should be controlled\n",
        "    :return: derivative of state vector\n",
        "    \"\"\"\n",
        "\n",
        "    # constants\n",
        "    inertia_ankle = 90.0\n",
        "    soleus_moment_arm = .05\n",
        "    tibialis_moment_arm = .03\n",
        "\n",
        "    Kp_s = 2.05\n",
        "    Kd_s = 0.83\n",
        "\n",
        "    Kp_ta = 30\n",
        "    Kd_ta = 10\n",
        "\n",
        "    activation_s_static = 0.05\n",
        "    activation_ta_static = 0.5\n",
        "\n",
        "\n",
        "    if (control == 0): #Uncontrolled\n",
        "      activation_s = 0.05\n",
        "      activation_ta = 0.4  \n",
        "\n",
        "    elif (control == 1): #Simple constants controller\n",
        "      if x[1] > 0:\n",
        "        activation_s = 0.01\n",
        "        activation_ta = 0.6\n",
        "      else:\n",
        "        activation_s = 0.02\n",
        "        activation_ta = 0.2\n",
        "\n",
        "    elif(control == 2): #PD controller\n",
        "\n",
        "      error = ((np.pi/2) - x[0]) #Calculates error \n",
        "\n",
        "      if(error > 0): # Leaning Forward (We want Soleus on)\n",
        "        activation_s = max(0,min(1,activation_s_static + error * Kp_s - x[1] * Kd_s))\n",
        "        activation_ta = min((error * Kp_ta/8), activation_ta_static/8)\n",
        "      elif(error <= 0): # Leaning Backwards (We want TA on)\n",
        "        activation_s = min((-1* error *\tKp_s/8), activation_s_static/8) \n",
        "        activation_ta =max(0,min(1,activation_ta_static + -1* error * Kp_ta + x[1] * Kd_ta))\n",
        "      else: # Standing straight up\n",
        "        activation_s = activation_s_static\n",
        "        activation_ta = activation_ta_static\n",
        "    else:\n",
        "      activation_s = 0.05\n",
        "      activation_ta = 0.4 \n",
        "\n",
        "    # use predefined functions to calculate total muscle lengths as a function of theta\n",
        "    soleus_length_val = soleus_length(x[0])\n",
        "    tibialis_length_val = tibialis_length(x[0])\n",
        "\n",
        "    # solve for normalized tendon length\n",
        "    norm_soleus_tendon_length = soleus.norm_tendon_length(soleus_length_val,x[2])\n",
        "    norm_tibialis_tendon_length = tibialis.norm_tendon_length(tibialis_length_val,x[3])\n",
        "\n",
        "    # derivative of ankle angle is angular velocity\n",
        "    x_0 = x[1]\n",
        "\n",
        "    # calculate moments as defined by balance model mechanics \n",
        "    tau_s =  soleus_moment_arm * soleus.get_force(soleus_length_val, x[2])\n",
        "    tau_ta = tibialis_moment_arm * tibialis.get_force(tibialis_length_val, x[3])\n",
        "    gravity_moment_val = gravity_moment(x[0])\n",
        "\n",
        "\n",
        "    \n",
        "    # # derivative of angular velocity is angular acceleration\n",
        "    # x_1 = (tau_s - tau_ta + gravity_moment_val)/inertia_ankle\n",
        "\n",
        "    # # derivative of normalized CE lengths is normalized velocity\n",
        "    # x_2 = get_velocity(activation_s, x[2], norm_soleus_tendon_length)\n",
        "    # x_3 = get_velocity(activation_ta, x[3], norm_tibialis_tendon_length)\n",
        "\n",
        "    # return as a vector\n",
        "    return [x_0, x_1, x_2, x_3]\n",
        "\n",
        "\n"
      ],
      "execution_count": 0,
      "outputs": []
    },
    {
      "cell_type": "code",
      "metadata": {
        "id": "bmm9eK-CIvhC",
        "colab_type": "code",
        "colab": {}
      },
      "source": [
        "def simulate(control, T):\n",
        "    \"\"\"\n",
        "    Runs a simulation of the model and plots results.\n",
        "    :param control: True if balance should be controlled\n",
        "    :param T: total time to simulate, in seconds\n",
        "    \"\"\"\n",
        "    rest_length_soleus = soleus_length(np.pi/2)\n",
        "    rest_length_tibialis = tibialis_length(np.pi/2)\n",
        "\n",
        "    soleus = HillTypeMuscle(16000, .6*rest_length_soleus, .4*rest_length_soleus)\n",
        "    tibialis = HillTypeMuscle(2000, .6*rest_length_tibialis, .4*rest_length_tibialis)\n",
        "\n",
        "    def g(t, x):\n",
        "        return dynamics(x, soleus, tibialis, control)\n",
        "\n",
        "    sol = solve_ivp(f, [0, T], [np.pi/2-0.001, 0, 1, 1], rtol=1e-5, atol=1e-8)\n",
        "\n",
        "    time = sol.t\n",
        "    theta = sol.y[0,:]\n",
        "    soleus_norm_length_muscle = sol.y[2,:]\n",
        "    tibialis_norm_length_muscle = sol.y[3,:]\n",
        "\n",
        "    soleus_moment_arm = .05\n",
        "    tibialis_moment_arm = .03\n",
        "    soleus_moment = []\n",
        "    tibialis_moment = []\n",
        "    for th, ls, lt in zip(theta, soleus_norm_length_muscle, tibialis_norm_length_muscle):\n",
        "        soleus_moment.append(soleus_moment_arm * soleus.get_force(soleus_length(th), ls))\n",
        "        tibialis_moment.append(-tibialis_moment_arm * tibialis.get_force(tibialis_length(th), lt))\n",
        "\n",
        "    plt.figure()\n",
        "    plt.subplot(2,1,1)\n",
        "    plt.plot(time,sol.y[0,:])\n",
        "    plt.plot(time, np.full((len(time),1),np.pi/2))\n",
        "    plt.legend(('Body angle', 'pi/2 rad'))\n",
        "    plt.ylabel('Body angle (rad)')\n",
        "    plt.subplot(2,1,2)\n",
        "    plt.plot(time, soleus_moment, 'r')\n",
        "    plt.plot(time, tibialis_moment, 'g')\n",
        "    plt.plot(time, gravity_moment(sol.y[0,:]), 'k')\n",
        "    plt.legend(('soleus', 'tibialis', 'gravity'))\n",
        "    plt.xlabel('Time (s)')\n",
        "    plt.ylabel('Torques (Nm)')\n",
        "    plt.tight_layout()\n",
        "    plt.show()"
      ],
      "execution_count": 0,
      "outputs": []
    },
    {
      "cell_type": "markdown",
      "metadata": {
        "id": "vcl1WC96MHg0",
        "colab_type": "text"
      },
      "source": [
        ""
      ]
    },
    {
      "cell_type": "code",
      "metadata": {
        "id": "nq9mCOOoIvj_",
        "colab_type": "code",
        "colab": {}
      },
      "source": [
        ""
      ],
      "execution_count": 0,
      "outputs": []
    },
    {
      "cell_type": "code",
      "metadata": {
        "id": "7bH8tvJDIvmw",
        "colab_type": "code",
        "colab": {}
      },
      "source": [
        ""
      ],
      "execution_count": 0,
      "outputs": []
    }
  ]
}